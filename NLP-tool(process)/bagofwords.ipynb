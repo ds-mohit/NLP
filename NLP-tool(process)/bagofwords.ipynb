{
 "cells": [
  {
   "cell_type": "markdown",
   "id": "63a2f477",
   "metadata": {},
   "source": [
    "# bag of words\n",
    "## it works on frequency\n",
    "\n",
    "### advantage\n",
    "#1. easy to implement\n",
    "#2. no sparx matrix\n",
    "#3. take whole sentence at a time "
   ]
  },
  {
   "cell_type": "code",
   "execution_count": 1,
   "id": "1e0fcff0",
   "metadata": {},
   "outputs": [],
   "source": [
    "from sklearn.feature_extraction.text import CountVectorizer\n"
   ]
  },
  {
   "cell_type": "code",
   "execution_count": 2,
   "id": "bee68a38",
   "metadata": {},
   "outputs": [],
   "source": [
    "text= [\"I love programming in Python\",\n",
    "       \"Python is great for data science\",\n",
    "       \"machine learning is a subset of ai\",\n",
    "       \"deep learning is a subset of ml\",\n",
    "       \"we are currently studying data science\",\n",
    "       \"in summer training in college\",]\n"
   ]
  },
  {
   "cell_type": "code",
   "execution_count": null,
   "id": "6a157c2c",
   "metadata": {},
   "outputs": [
    {
     "name": "stdout",
     "output_type": "stream",
     "text": [
      "['ai' 'are' 'college' 'currently' 'data' 'deep' 'for' 'great' 'in' 'is'\n",
      " 'learning' 'love' 'machine' 'ml' 'of' 'programming' 'python' 'science'\n",
      " 'studying' 'subset' 'summer' 'training' 'we']\n",
      "[[0 0 0 0 0 0 0 0 1 0 0 1 0 0 0 1 1 0 0 0 0 0 0]\n",
      " [0 0 0 0 1 0 1 1 0 1 0 0 0 0 0 0 1 1 0 0 0 0 0]\n",
      " [1 0 0 0 0 0 0 0 0 1 1 0 1 0 1 0 0 0 0 1 0 0 0]\n",
      " [0 0 0 0 0 1 0 0 0 1 1 0 0 1 1 0 0 0 0 1 0 0 0]\n",
      " [0 1 0 1 1 0 0 0 0 0 0 0 0 0 0 0 0 1 1 0 0 0 1]\n",
      " [0 0 1 0 0 0 0 0 2 0 0 0 0 0 0 0 0 0 0 0 1 1 0]]\n"
     ]
    }
   ],
   "source": [
    "vec=CountVectorizer()\n",
    "x=vec.fit_transform(text)\n",
    "#to see the vocabulary and the bag of words\n",
    "#print(vec.vocabulary_)\n",
    "print(vec.get_feature_names_out())\n",
    "print(x.toarray())"
   ]
  },
  {
   "cell_type": "code",
   "execution_count": null,
   "id": "3152331a",
   "metadata": {},
   "outputs": [],
   "source": []
  }
 ],
 "metadata": {
  "kernelspec": {
   "display_name": "Python 3",
   "language": "python",
   "name": "python3"
  },
  "language_info": {
   "codemirror_mode": {
    "name": "ipython",
    "version": 3
   },
   "file_extension": ".py",
   "mimetype": "text/x-python",
   "name": "python",
   "nbconvert_exporter": "python",
   "pygments_lexer": "ipython3",
   "version": "3.11.9"
  }
 },
 "nbformat": 4,
 "nbformat_minor": 5
}
