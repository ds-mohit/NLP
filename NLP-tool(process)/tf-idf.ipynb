{
 "cells": [
  {
   "cell_type": "markdown",
   "id": "48bf36eb",
   "metadata": {},
   "source": [
    "## tf (term frequency) -- idf ()\n",
    "formula of tf = no of words in sentence/total no of words\n",
    "\n",
    "formula of idf = log(no of sentence/no of sentence containing that word)\n",
    "\n",
    "## advantage\n",
    "1. in this every output has its own value "
   ]
  },
  {
   "cell_type": "code",
   "execution_count": null,
   "id": "0cdb4fda",
   "metadata": {},
   "outputs": [
    {
     "name": "stdout",
     "output_type": "stream",
     "text": [
      "[[0.62674687 0.         0.         0.40352536 0.40352536 0.\n",
      "  0.         0.         0.53058735 0.         0.        ]\n",
      " [0.28321692 0.47952794 0.47952794 0.         0.         0.47952794\n",
      "  0.47952794 0.         0.         0.         0.        ]\n",
      " [0.50130994 0.         0.         0.32276391 0.32276391 0.\n",
      "  0.         0.42439575 0.         0.42439575 0.42439575]]\n",
      "{'this': 8, 'boy': 0, 'is': 4, 'good': 3, 'eat': 1, 'lot': 5, 'of': 6, 'food': 2, 'very': 9, 'with': 10, 'other': 7}\n",
      "['boy' 'eat' 'food' 'good' 'is' 'lot' 'of' 'other' 'this' 'very' 'with']\n"
     ]
    }
   ],
   "source": [
    "from sklearn.feature_extraction.text import TfidfVectorizer\n",
    "\n",
    "counterizer = TfidfVectorizer()\n",
    "text = [\"this boy is a good boy\", \"boy eat lot of food\", \"boy is very good with other boy\"]\n",
    "\n",
    "print(counterizer.fit_transform(text).toarray())\n",
    "print(counterizer.vocabulary_)\n",
    "print(counterizer.get_feature_names_out())"
   ]
  },
  {
   "cell_type": "code",
   "execution_count": null,
   "id": "333fa38a",
   "metadata": {},
   "outputs": [],
   "source": [
    "# word embedding --\n",
    "# 1 -- count or frq --- one hot encoding , bow , ngram , tf-idf\n",
    "# 2 -- deep learning pre trained models -- word2vec(Cbow and skipgram), GloVe, fastText\n",
    "# "
   ]
  },
  {
   "cell_type": "code",
   "execution_count": null,
   "id": "3e1aac2b",
   "metadata": {},
   "outputs": [],
   "source": [
    "## for any prject that include recommendation system then it uses cosine simmilarity\n",
    "## formula is --> cosine similarity = (A.B)/(|A|*|B|)=cos(theta)\n",
    "## distance = 1 - cosine similarity"
   ]
  },
  {
   "cell_type": "code",
   "execution_count": 1,
   "id": "9005a965",
   "metadata": {},
   "outputs": [],
   "source": [
    "from gensim.models import Word2Vec"
   ]
  },
  {
   "cell_type": "code",
   "execution_count": 2,
   "id": "e5ba7b8c",
   "metadata": {},
   "outputs": [
    {
     "name": "stdout",
     "output_type": "stream",
     "text": [
      "[==================================================] 100.0% 1662.8/1662.8MB downloaded\n"
     ]
    }
   ],
   "source": [
    "import gensim.downloader as api\n",
    "# Download Google's pre-trained Word2Vec model\n",
    "word2vec_model = api.load(\"word2vec-google-news-300\")"
   ]
  },
  {
   "cell_type": "code",
   "execution_count": 3,
   "id": "fa679897",
   "metadata": {},
   "outputs": [
    {
     "data": {
      "text/plain": [
       "[('cricketing', 0.8372225761413574),\n",
       " ('cricketers', 0.8165745735168457),\n",
       " ('Test_cricket', 0.8094819188117981),\n",
       " ('Twenty##_cricket', 0.8068488240242004),\n",
       " ('Twenty##', 0.7624265551567078),\n",
       " ('Cricket', 0.75413978099823),\n",
       " ('cricketer', 0.7372578382492065),\n",
       " ('twenty##', 0.7316356897354126),\n",
       " ('T##_cricket', 0.7304614186286926),\n",
       " ('West_Indies_cricket', 0.6987985968589783)]"
      ]
     },
     "execution_count": 3,
     "metadata": {},
     "output_type": "execute_result"
    }
   ],
   "source": [
    "word2vec_model.most_similar(\"cricket\")  # Find words similar to \"king\""
   ]
  },
  {
   "cell_type": "code",
   "execution_count": null,
   "id": "71089a3c",
   "metadata": {},
   "outputs": [],
   "source": []
  }
 ],
 "metadata": {
  "kernelspec": {
   "display_name": "Python 3",
   "language": "python",
   "name": "python3"
  },
  "language_info": {
   "codemirror_mode": {
    "name": "ipython",
    "version": 3
   },
   "file_extension": ".py",
   "mimetype": "text/x-python",
   "name": "python",
   "nbconvert_exporter": "python",
   "pygments_lexer": "ipython3",
   "version": "3.11.9"
  }
 },
 "nbformat": 4,
 "nbformat_minor": 5
}
