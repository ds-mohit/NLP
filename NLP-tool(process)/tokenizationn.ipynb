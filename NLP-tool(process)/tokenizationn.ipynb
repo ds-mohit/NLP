{
 "cells": [
  {
   "cell_type": "code",
   "execution_count": 1,
   "id": "4ad04c9e",
   "metadata": {},
   "outputs": [],
   "source": [
    "# corpus=\"Ferrars all spirits his imagine effects amongst neither. It bachelor cheerful of mistaken. Tore has sons put upon wife use bred seen. Its dissimilar invitation ten has discretion unreserved. Had you him humoured jointure ask expenses learning. Blush on in jokes sense do do. Brother hundred he assured reached on up no. On am nearer missed lovers. To it mother extent temper figure better.Over fact all son tell this any his. No insisted confined of weddings to returned to debating rendered. Keeps order fully so do party means young. Table nay him jokes quick. In felicity up to graceful mistaken horrible consider. Abode never think to at. So additions necessary concluded it happiness do on certainly propriety. On in green taken do offer witty of.Manor we shall merit by chief wound no or would. Oh towards between subject passage sending mention or it. Sight happy do burst fruit to woody begin at. Assurance perpetual he in oh determine as. The year paid met him does eyes same. Own marianne improved sociable not out. Thing do sight blush mr an. Celebrated am announcing delightful remarkably we in literature it solicitude. Design use say piqued any gay supply. Front sex match vexed her those great.\"\n",
    "# words = corpus.split()\n",
    "# print(words)"
   ]
  },
  {
   "cell_type": "code",
   "execution_count": 2,
   "id": "7f4ef6a0",
   "metadata": {},
   "outputs": [
    {
     "name": "stderr",
     "output_type": "stream",
     "text": [
      "[nltk_data] Downloading package punkt to C:\\nltk_data...\n",
      "[nltk_data]   Package punkt is already up-to-date!\n"
     ]
    },
    {
     "data": {
      "text/plain": [
       "True"
      ]
     },
     "execution_count": 2,
     "metadata": {},
     "output_type": "execute_result"
    }
   ],
   "source": [
    "import nltk\n",
    "\n",
    "nltk.download('punkt')  # This saves to the default nltk_data folder\n"
   ]
  },
  {
   "cell_type": "code",
   "execution_count": 4,
   "id": "cc62ab9e",
   "metadata": {},
   "outputs": [
    {
     "name": "stderr",
     "output_type": "stream",
     "text": [
      "[nltk_data] Downloading package punkt_tab to C:\\nltk_data...\n",
      "[nltk_data]   Unzipping tokenizers\\punkt_tab.zip.\n"
     ]
    },
    {
     "data": {
      "text/plain": [
       "True"
      ]
     },
     "execution_count": 4,
     "metadata": {},
     "output_type": "execute_result"
    }
   ],
   "source": [
    "nltk.download('punkt_tab')\n"
   ]
  },
  {
   "cell_type": "code",
   "execution_count": 5,
   "id": "3532737e",
   "metadata": {},
   "outputs": [
    {
     "name": "stdout",
     "output_type": "stream",
     "text": [
      "Sentence 1: Ferrars all spirits his imagine effects amongst neither.\n",
      "Tokens: ['Ferrars', 'all', 'spirits', 'his', 'imagine', 'effects', 'amongst', 'neither', '.']\n",
      "--------------------------------------------------\n",
      "Sentence 2: It bachelor cheerful of mistaken.\n",
      "Tokens: ['It', 'bachelor', 'cheerful', 'of', 'mistaken', '.']\n",
      "--------------------------------------------------\n"
     ]
    }
   ],
   "source": [
    "from nltk.tokenize import sent_tokenize, word_tokenize\n",
    "\n",
    "corpus = (\"Ferrars all spirits his imagine effects amongst neither. It bachelor cheerful of mistaken.\")\n",
    "doc = sent_tokenize(corpus)\n",
    "\n",
    "for idx, sentence in enumerate(doc, 1):\n",
    "    print(f\"Sentence {idx}: {sentence}\")\n",
    "    print(\"Tokens:\", word_tokenize(sentence))\n",
    "    print(\"-\" * 50)\n"
   ]
  },
  {
   "cell_type": "code",
   "execution_count": 6,
   "id": "19baac5e",
   "metadata": {},
   "outputs": [
    {
     "data": {
      "text/plain": [
       "['Ferrars',\n",
       " 'all',\n",
       " 'spirits',\n",
       " 'his',\n",
       " 'imagine',\n",
       " 'effects',\n",
       " 'amongst',\n",
       " 'neither',\n",
       " '.',\n",
       " 'It',\n",
       " 'bachelor',\n",
       " 'cheerful',\n",
       " 'of',\n",
       " 'mistaken',\n",
       " '.']"
      ]
     },
     "execution_count": 6,
     "metadata": {},
     "output_type": "execute_result"
    }
   ],
   "source": [
    "from nltk.tokenize import wordpunct_tokenize\n",
    "wordpunct_tokenize(corpus)"
   ]
  },
  {
   "cell_type": "code",
   "execution_count": 7,
   "id": "813c3237",
   "metadata": {},
   "outputs": [
    {
     "data": {
      "text/plain": [
       "'F e r r a r s   a l l   s p i r i t s   h i s   i m a g i n e   e f f e c t s   a m o n g s t   n e i t h e r .   I t   b a c h e l o r   c h e e r f u l   o f   m i s t a k e n.'"
      ]
     },
     "execution_count": 7,
     "metadata": {},
     "output_type": "execute_result"
    }
   ],
   "source": [
    "from nltk.tokenize import TreebankWordDetokenizer\n",
    "tokenizer = TreebankWordDetokenizer()\n",
    "tokenizer.tokenize(corpus)"
   ]
  },
  {
   "cell_type": "code",
   "execution_count": null,
   "id": "26721b29",
   "metadata": {},
   "outputs": [],
   "source": []
  }
 ],
 "metadata": {
  "kernelspec": {
   "display_name": "Python 3",
   "language": "python",
   "name": "python3"
  },
  "language_info": {
   "codemirror_mode": {
    "name": "ipython",
    "version": 3
   },
   "file_extension": ".py",
   "mimetype": "text/x-python",
   "name": "python",
   "nbconvert_exporter": "python",
   "pygments_lexer": "ipython3",
   "version": "3.11.9"
  }
 },
 "nbformat": 4,
 "nbformat_minor": 5
}
