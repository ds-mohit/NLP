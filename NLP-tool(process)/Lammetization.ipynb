{
 "cells": [
  {
   "cell_type": "markdown",
   "id": "68922b6f",
   "metadata": {},
   "source": [
    "## Lammetization\n"
   ]
  },
  {
   "cell_type": "markdown",
   "id": "9a248398",
   "metadata": {},
   "source": [
    "#### it convert a word to its root form via grammer\n",
    "#### e.g. went --> go\n"
   ]
  },
  {
   "cell_type": "code",
   "execution_count": 3,
   "id": "a7ef88b8",
   "metadata": {},
   "outputs": [],
   "source": [
    "from nltk import WordNetLemmatizer"
   ]
  },
  {
   "cell_type": "code",
   "execution_count": 4,
   "id": "699237d0",
   "metadata": {},
   "outputs": [
    {
     "name": "stderr",
     "output_type": "stream",
     "text": [
      "[nltk_data] Downloading package wordnet to\n",
      "[nltk_data]     C:\\Users\\dell\\AppData\\Roaming\\nltk_data...\n",
      "[nltk_data] Downloading package omw-1.4 to\n",
      "[nltk_data]     C:\\Users\\dell\\AppData\\Roaming\\nltk_data...\n"
     ]
    },
    {
     "data": {
      "text/plain": [
       "True"
      ]
     },
     "execution_count": 4,
     "metadata": {},
     "output_type": "execute_result"
    }
   ],
   "source": [
    "import nltk\n",
    "nltk.download('wordnet')\n",
    "nltk.download('omw-1.4')  # Optional, helps in better lemmatization"
   ]
  },
  {
   "cell_type": "code",
   "execution_count": 8,
   "id": "7ee84481",
   "metadata": {},
   "outputs": [
    {
     "name": "stdout",
     "output_type": "stream",
     "text": [
      "went\n",
      "go\n",
      "good\n",
      "run\n"
     ]
    }
   ],
   "source": [
    "lemmatizer=WordNetLemmatizer()\n",
    "\n",
    "print(lemmatizer.lemmatize(\"went\")) # this will print only went for printing root word we have to write pos tag\n",
    "print(lemmatizer.lemmatize(\"went\", pos=\"v\"))  # 'go'  \n",
    "# 'went' is a verb, so we specify pos=\"v\" for verb\n",
    "print(lemmatizer.lemmatize(\"better\", pos=\"a\"))  # 'good'  \n",
    "# 'better' is an adjective, so we specify pos=\"a\" for adjective\n",
    "print(lemmatizer.lemmatize(\"running\", pos=\"v\"))  # 'run' \n",
    " # 'running' is a verb, so we specify pos=\"v\" for verb"
   ]
  },
  {
   "cell_type": "code",
   "execution_count": 9,
   "id": "99283df8",
   "metadata": {},
   "outputs": [],
   "source": [
    "words = [\"plays\", \"playing\" , \"played\",\"run\",\"runs\" , \"running\",\"happened\" , \"happening\" , \"happen\",\"History\"]"
   ]
  },
  {
   "cell_type": "code",
   "execution_count": 17,
   "id": "9b2f256d",
   "metadata": {},
   "outputs": [
    {
     "name": "stdout",
     "output_type": "stream",
     "text": [
      "plays --> verb: play | adj: plays\n",
      "playing --> verb: play | adj: playing\n",
      "played --> verb: play | adj: played\n",
      "run --> verb: run | adj: run\n",
      "runs --> verb: run | adj: runs\n",
      "running --> verb: run | adj: running\n",
      "happened --> verb: happen | adj: happened\n",
      "happening --> verb: happen | adj: happening\n",
      "happen --> verb: happen | adj: happen\n",
      "History --> verb: History | adj: History\n"
     ]
    }
   ],
   "source": [
    "from nltk.stem import WordNetLemmatizer\n",
    "lemmatizer = WordNetLemmatizer()\n",
    "for word in words:\n",
    "    print(word, '-->', \n",
    "          'verb:', lemmatizer.lemmatize(word, pos=\"v\"), \n",
    "          '| adj:', lemmatizer.lemmatize(word, pos=\"a\"))"
   ]
  },
  {
   "cell_type": "code",
   "execution_count": null,
   "id": "82188ab2",
   "metadata": {},
   "outputs": [],
   "source": []
  }
 ],
 "metadata": {
  "kernelspec": {
   "display_name": "Python 3",
   "language": "python",
   "name": "python3"
  },
  "language_info": {
   "codemirror_mode": {
    "name": "ipython",
    "version": 3
   },
   "file_extension": ".py",
   "mimetype": "text/x-python",
   "name": "python",
   "nbconvert_exporter": "python",
   "pygments_lexer": "ipython3",
   "version": "3.11.9"
  }
 },
 "nbformat": 4,
 "nbformat_minor": 5
}
