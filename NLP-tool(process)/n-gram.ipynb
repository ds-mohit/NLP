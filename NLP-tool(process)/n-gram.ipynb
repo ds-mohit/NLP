{
 "cells": [
  {
   "cell_type": "markdown",
   "id": "473beeb3",
   "metadata": {},
   "source": [
    "# n-gram --> 1,2,3\n",
    "#### Vocab--> (food ,food good,food not good)\n",
    "\n",
    "## 1. unigram\n",
    "## 2. bigram\n",
    "## 3. trigram\n"
   ]
  },
  {
   "cell_type": "code",
   "execution_count": 1,
   "id": "fa0a7391",
   "metadata": {},
   "outputs": [],
   "source": [
    "from sklearn.feature_extraction.text import CountVectorizer"
   ]
  },
  {
   "cell_type": "code",
   "execution_count": 2,
   "id": "1f0d4c33",
   "metadata": {},
   "outputs": [],
   "source": [
    "text=[\"this was not good to watch with family\",]"
   ]
  },
  {
   "cell_type": "code",
   "execution_count": null,
   "id": "0883de2c",
   "metadata": {},
   "outputs": [
    {
     "name": "stdout",
     "output_type": "stream",
     "text": [
      "[[1 1 1 1 1 1 1 1]]\n",
      "['family' 'good' 'not' 'this' 'to' 'was' 'watch' 'with']\n",
      "{'this': 3, 'was': 5, 'not': 2, 'good': 1, 'to': 4, 'watch': 6, 'with': 7, 'family': 0}\n"
     ]
    }
   ],
   "source": [
    "cv=CountVectorizer(ngram_range=(1,1))# ngram_range=(1,1) for unigram\n",
    "print(cv.fit_transform(text).toarray())\n",
    "print(cv.get_feature_names_out())\n",
    "print(cv.vocabulary_)"
   ]
  },
  {
   "cell_type": "code",
   "execution_count": 6,
   "id": "feb5ca7c",
   "metadata": {},
   "outputs": [
    {
     "name": "stdout",
     "output_type": "stream",
     "text": [
      "[[1 1 1 1 1 1 1]]\n",
      "['good to' 'not good' 'this was' 'to watch' 'was not' 'watch with'\n",
      " 'with family']\n",
      "{'this was': 2, 'was not': 4, 'not good': 1, 'good to': 0, 'to watch': 3, 'watch with': 5, 'with family': 6}\n"
     ]
    }
   ],
   "source": [
    "cv=CountVectorizer(ngram_range=(2,2))# ngram_range=(2,2) for bigram\n",
    "print(cv.fit_transform(text).toarray())\n",
    "print(cv.get_feature_names_out())\n",
    "print(cv.vocabulary_)"
   ]
  },
  {
   "cell_type": "code",
   "execution_count": 7,
   "id": "7da43914",
   "metadata": {},
   "outputs": [
    {
     "name": "stdout",
     "output_type": "stream",
     "text": [
      "[[1 1 1 1 1 1]]\n",
      "['good to watch' 'not good to' 'this was not' 'to watch with'\n",
      " 'was not good' 'watch with family']\n",
      "{'this was not': 2, 'was not good': 4, 'not good to': 1, 'good to watch': 0, 'to watch with': 3, 'watch with family': 5}\n"
     ]
    }
   ],
   "source": [
    "cv=CountVectorizer(ngram_range=(3,3))# ngram_range=(3,3) for trigram\n",
    "print(cv.fit_transform(text).toarray())\n",
    "print(cv.get_feature_names_out())\n",
    "print(cv.vocabulary_)"
   ]
  },
  {
   "cell_type": "code",
   "execution_count": 9,
   "id": "4e79acb2",
   "metadata": {},
   "outputs": [
    {
     "name": "stdout",
     "output_type": "stream",
     "text": [
      "[[1 1 1 1 1 1 1 1 1 1 1 1 1 1 1 1 1 1 1 1 1]]\n",
      "['family' 'good' 'good to' 'good to watch' 'not' 'not good' 'not good to'\n",
      " 'this' 'this was' 'this was not' 'to' 'to watch' 'to watch with' 'was'\n",
      " 'was not' 'was not good' 'watch' 'watch with' 'watch with family' 'with'\n",
      " 'with family']\n",
      "{'this': 7, 'was': 13, 'not': 4, 'good': 1, 'to': 10, 'watch': 16, 'with': 19, 'family': 0, 'this was': 8, 'was not': 14, 'not good': 5, 'good to': 2, 'to watch': 11, 'watch with': 17, 'with family': 20, 'this was not': 9, 'was not good': 15, 'not good to': 6, 'good to watch': 3, 'to watch with': 12, 'watch with family': 18}\n"
     ]
    }
   ],
   "source": [
    "\n",
    "cv=CountVectorizer(ngram_range=(1,3))# ngram_range=(1,3) for unigram,bigram,trigram\n",
    "print(cv.fit_transform(text).toarray())\n",
    "print(cv.get_feature_names_out())\n",
    "print(cv.vocabulary_)"
   ]
  },
  {
   "cell_type": "code",
   "execution_count": null,
   "id": "a0d2f77c",
   "metadata": {},
   "outputs": [],
   "source": []
  }
 ],
 "metadata": {
  "kernelspec": {
   "display_name": "Python 3",
   "language": "python",
   "name": "python3"
  },
  "language_info": {
   "codemirror_mode": {
    "name": "ipython",
    "version": 3
   },
   "file_extension": ".py",
   "mimetype": "text/x-python",
   "name": "python",
   "nbconvert_exporter": "python",
   "pygments_lexer": "ipython3",
   "version": "3.11.9"
  }
 },
 "nbformat": 4,
 "nbformat_minor": 5
}
