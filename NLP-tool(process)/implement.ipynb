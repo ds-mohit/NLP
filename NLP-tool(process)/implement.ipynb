{
 "cells": [
  {
   "cell_type": "markdown",
   "id": "da2779d6",
   "metadata": {},
   "source": [
    "## NLP via NLTK"
   ]
  },
  {
   "cell_type": "code",
   "execution_count": 1,
   "id": "68540a7f",
   "metadata": {},
   "outputs": [],
   "source": [
    "words = [\"plays\", \"playing\" , \"played\",\"run\",\"runs\" , \"running\",\"happened\" , \"happening\" , \"happen\",\"History\"]"
   ]
  },
  {
   "cell_type": "code",
   "execution_count": 2,
   "id": "1cef2e38",
   "metadata": {},
   "outputs": [
    {
     "name": "stdout",
     "output_type": "stream",
     "text": [
      "plays --> play\n",
      "playing --> play\n",
      "played --> play\n",
      "run --> run\n",
      "runs --> run\n",
      "running --> run\n",
      "happened --> happen\n",
      "happening --> happen\n",
      "happen --> happen\n",
      "History --> histori\n"
     ]
    }
   ],
   "source": [
    "## porter stemmer:--\n",
    "## the output word may not be always be a valid english word\n",
    "from nltk.stem import PorterStemmer\n",
    "ps=PorterStemmer()\n",
    "\n",
    "for word in words:\n",
    "    print(word,'-->',ps.stem(word))"
   ]
  },
  {
   "cell_type": "code",
   "execution_count": 3,
   "id": "5c84f151",
   "metadata": {},
   "outputs": [
    {
     "name": "stdout",
     "output_type": "stream",
     "text": [
      "plays --> play\n",
      "playing --> play\n",
      "played --> play\n",
      "run --> run\n",
      "runs --> run\n",
      "running --> run\n",
      "happened --> happen\n",
      "happening --> happe\n",
      "happen --> happen\n",
      "History --> History\n"
     ]
    }
   ],
   "source": [
    "from nltk.stem import RegexpStemmer\n",
    "rs=RegexpStemmer('ing$|ed$|ning$|s$')  # it will remove 'ing' from the end of the word\n",
    "\n",
    "for word in words:\n",
    "    print(word,'-->',rs.stem(word))"
   ]
  },
  {
   "cell_type": "code",
   "execution_count": null,
   "id": "e8f56e28",
   "metadata": {},
   "outputs": [],
   "source": []
  }
 ],
 "metadata": {
  "kernelspec": {
   "display_name": "Python 3",
   "language": "python",
   "name": "python3"
  },
  "language_info": {
   "codemirror_mode": {
    "name": "ipython",
    "version": 3
   },
   "file_extension": ".py",
   "mimetype": "text/x-python",
   "name": "python",
   "nbconvert_exporter": "python",
   "pygments_lexer": "ipython3",
   "version": "3.11.9"
  }
 },
 "nbformat": 4,
 "nbformat_minor": 5
}
