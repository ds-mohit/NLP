{
 "cells": [
  {
   "cell_type": "markdown",
   "id": "68a9de87",
   "metadata": {},
   "source": [
    "# NLP\n"
   ]
  },
  {
   "cell_type": "markdown",
   "id": "6c7b0d57",
   "metadata": {},
   "source": [
    "## Nlp is a subfield of ai which help us to understand human language\n",
    "## Rnn --> text data --> prep --> nlp -->\n",
    "## cnn --> image data --> prep --> IP "
   ]
  },
  {
   "cell_type": "markdown",
   "id": "d7a4c704",
   "metadata": {},
   "source": [
    "### what are we gona do with nlp -->\n",
    "#### preprocess\n",
    "#### lowercase\n",
    "#### lemmatization\n",
    "#### tokenization\n",
    "#### stopword removal\n",
    "#### punctuation removal\n",
    "#### pos tag\n",
    "#### ner --> named entity recognition"
   ]
  },
  {
   "cell_type": "markdown",
   "id": "fe13acad",
   "metadata": {},
   "source": [
    "## algo --> maths --> text --> numerical(vectors)  --> word embeddings\n",
    "#### one hot encoding\n",
    "#### bag of words\n",
    "#### tf-idf\n",
    "#### word2vec"
   ]
  },
  {
   "cell_type": "markdown",
   "id": "12e1ff42",
   "metadata": {},
   "source": []
  }
 ],
 "metadata": {
  "language_info": {
   "name": "python"
  }
 },
 "nbformat": 4,
 "nbformat_minor": 5
}
