{
 "cells": [
  {
   "cell_type": "code",
   "execution_count": null,
   "id": "730b860f",
   "metadata": {},
   "outputs": [],
   "source": [
    "## one hot encoding\n",
    "# one hot encoding is a technique to convert categorical data into numerical data\n",
    "# advantage\n",
    "#1. easy to implement\n",
    "\n",
    "# disadvantage\n",
    "#1. sparx matrix (most elements are zero)\n",
    "#2. no semantic meaning is getting ( )\n",
    "#3. out of vocablury means esa data jo model ne kabhi dekha nahi"
   ]
  },
  {
   "cell_type": "code",
   "execution_count": null,
   "id": "0ede1b18",
   "metadata": {},
   "outputs": [],
   "source": []
  }
 ],
 "metadata": {
  "kernelspec": {
   "display_name": "Python 3",
   "language": "python",
   "name": "python3"
  },
  "language_info": {
   "codemirror_mode": {
    "name": "ipython",
    "version": 3
   },
   "file_extension": ".py",
   "mimetype": "text/x-python",
   "name": "python",
   "nbconvert_exporter": "python",
   "pygments_lexer": "ipython3",
   "version": "3.11.9"
  }
 },
 "nbformat": 4,
 "nbformat_minor": 5
}
